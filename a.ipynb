{
 "cells": [
  {
   "cell_type": "code",
   "execution_count": 2,
   "id": "3e1ba439",
   "metadata": {},
   "outputs": [],
   "source": [
    "import pytesseract\n",
    "pytesseract.pytesseract.tesseract_cmd = r'C:\\Program Files\\Tesseract-OCR\\tesseract.exe'"
   ]
  },
  {
   "cell_type": "code",
   "execution_count": 3,
   "id": "a9ab139a",
   "metadata": {},
   "outputs": [
    {
     "name": "stdout",
     "output_type": "stream",
     "text": [
      "Flask version: 3.1.2\n",
      "NumPy version: 2.2.6\n",
      "OpenCV version: 4.12.0\n",
      "Tesseract version: 5.5.0.20241111\n"
     ]
    },
    {
     "name": "stderr",
     "output_type": "stream",
     "text": [
      "C:\\Users\\prath\\AppData\\Local\\Temp\\ipykernel_9320\\4158153490.py:6: DeprecationWarning: The '__version__' attribute is deprecated and will be removed in Flask 3.2. Use feature detection or 'importlib.metadata.version(\"flask\")' instead.\n",
      "  print(\"Flask version:\", flask.__version__)\n"
     ]
    }
   ],
   "source": [
    "import flask\n",
    "import numpy as np\n",
    "import cv2\n",
    "import pytesseract\n",
    "\n",
    "print(\"Flask version:\", flask.__version__)\n",
    "print(\"NumPy version:\", np.__version__)\n",
    "print(\"OpenCV version:\", cv2.__version__)\n",
    "print(\"Tesseract version:\", pytesseract.get_tesseract_version())"
   ]
  },
  {
   "cell_type": "code",
   "execution_count": 19,
   "id": "c880760e",
   "metadata": {},
   "outputs": [
    {
     "name": "stdout",
     "output_type": "stream",
     "text": [
      "sample1.jpeg | GT: RJ14CV0002 -> Pred: RJ12CV0002 | Valid: True | Raw: RJ1ZCV0002\n",
      "sample2.jpeg | GT: KA20ES2473 -> Pred:  | Valid: False | Raw: \n",
      "sample3.jpeg | GT: MH20DV2366 -> Pred: MH200V2366 | Valid: False | Raw: MHZ00V2366\n",
      "sample4.jpeg | GT: HR06AY1229 -> Pred: HR0GAY1229 | Valid: False | Raw: HROGAY1229\n",
      "sample5.jpeg | GT: TS09AB1234 -> Pred: T509AB1234 | Valid: False | Raw: TSO9AB1234\n",
      "sample6.jpeg | GT: TN88F4089 -> Pred: R0 | Valid: False | Raw: RO\n",
      "sample7.jpeg | GT: WB06F5977 -> Pred:  | Valid: False | Raw: \n",
      "sample8.jpeg | GT: TN88F4089 -> Pred:  | Valid: False | Raw: \n"
     ]
    }
   ],
   "source": [
    "import os\n",
    "import csv\n",
    "from ocr_utils import process_image_and_get_plate\n",
    "\n",
    "TEST_FOLDER = 'test_images'\n",
    "GT_CSV = os.path.join(TEST_FOLDER, 'ground_truth.csv')\n",
    "\n",
    "rows = []\n",
    "with open(GT_CSV, newline='') as f:\n",
    "    reader = csv.DictReader(f)\n",
    "    for r in reader:\n",
    "        # Clean up spaces in keys and values\n",
    "        clean_row = {k.strip(): v.strip() for k, v in r.items()}\n",
    "        rows.append(clean_row)\n",
    "\n",
    "for r in rows:\n",
    "    # Use your actual CSV headers\n",
    "    filename = r['test_images']  \n",
    "    gt_plate = r['expected_plate']  \n",
    "\n",
    "    image_path = os.path.join(TEST_FOLDER, filename)\n",
    "\n",
    "    result = process_image_and_get_plate(image_path)\n",
    "    pred_plate = result['plate']\n",
    "    raw_text = result['raw']\n",
    "    valid = result['valid']\n",
    "\n",
    "    print(f\"{filename} | GT: {gt_plate} -> Pred: {pred_plate} | Valid: {valid} | Raw: {raw_text}\")\n"
   ]
  },
  {
   "cell_type": "code",
   "execution_count": null,
   "id": "fcd42f2d",
   "metadata": {},
   "outputs": [],
   "source": []
  },
  {
   "cell_type": "code",
   "execution_count": 16,
   "id": "7d031588",
   "metadata": {},
   "outputs": [],
   "source": [
    "def levenshtein(a, b):\n",
    "    if a == b:\n",
    "        return 0\n",
    "    la, lb = len(a), len(b)\n",
    "    dp = [[0]*(lb+1) for _ in range(la+1)]\n",
    "    for i in range(la+1): dp[i][0]=i\n",
    "    for j in range(lb+1): dp[0][j]=j\n",
    "    for i in range(1, la+1):\n",
    "        for j in range(1, lb+1):\n",
    "            cost = 0 if a[i-1]==b[j-1] else 1\n",
    "            dp[i][j] = min(dp[i-1][j]+1, dp[i][j-1]+1, dp[i-1][j-1]+cost)\n",
    "    return dp[la][lb]\n",
    "\n",
    "lev_dist = levenshtein(pred_plate, expected_plate)\n",
    "max_len = max(len(pred_plate), len(expected_plate))\n",
    "char_level_acc = 1 - lev_dist/max_len"
   ]
  },
  {
   "cell_type": "code",
   "execution_count": 15,
   "id": "9353eaff",
   "metadata": {},
   "outputs": [
    {
     "name": "stdout",
     "output_type": "stream",
     "text": [
      "Prediction Match: False\n"
     ]
    }
   ],
   "source": [
    "if pred_plate == expected_plate:\n",
    "    exact_match = True\n",
    "else:\n",
    "    exact_match = False\n",
    "\n",
    "print(f\"Prediction Match: {exact_match}\")"
   ]
  },
  {
   "cell_type": "code",
   "execution_count": 12,
   "id": "466bcdd0",
   "metadata": {},
   "outputs": [],
   "source": [
    "expected_plate = r['expected_plate'].strip().upper()"
   ]
  },
  {
   "cell_type": "code",
   "execution_count": 13,
   "id": "f4661040",
   "metadata": {},
   "outputs": [],
   "source": [
    "if pred_plate == expected_plate:\n",
    "    exact_match = True\n",
    "else:\n",
    "    exact_match = False"
   ]
  },
  {
   "cell_type": "code",
   "execution_count": 4,
   "id": "9dbed5ef",
   "metadata": {},
   "outputs": [
    {
     "name": "stdout",
     "output_type": "stream",
     "text": [
      "dict_keys(['test_images', 'expected_plate'])\n"
     ]
    }
   ],
   "source": [
    "print(rows[0].keys())"
   ]
  },
  {
   "cell_type": "code",
   "execution_count": 2,
   "id": "fefa3a06",
   "metadata": {},
   "outputs": [
    {
     "name": "stdout",
     "output_type": "stream",
     "text": [
      "dict_keys(['test_images', 'expected_plate'])\n"
     ]
    }
   ],
   "source": [
    "import os\n",
    "import csv\n",
    "\n",
    "TEST_FOLDER = 'test_images'\n",
    "GT_CSV = os.path.join(TEST_FOLDER, 'ground_truth.csv')\n",
    "\n",
    "# Load CSV data\n",
    "rows = []\n",
    "with open(GT_CSV, newline='') as f:\n",
    "    reader = csv.DictReader(f)\n",
    "    for r in reader:\n",
    "        r = {k.strip(): v.strip() for k, v in r.items()}\n",
    "        rows.append(r)\n",
    "\n",
    "# Now you can print the keys\n",
    "print(rows[0].keys())"
   ]
  }
 ],
 "metadata": {
  "kernelspec": {
   "display_name": "ocrenv",
   "language": "python",
   "name": "python3"
  },
  "language_info": {
   "codemirror_mode": {
    "name": "ipython",
    "version": 3
   },
   "file_extension": ".py",
   "mimetype": "text/x-python",
   "name": "python",
   "nbconvert_exporter": "python",
   "pygments_lexer": "ipython3",
   "version": "3.13.5"
  }
 },
 "nbformat": 4,
 "nbformat_minor": 5
}
